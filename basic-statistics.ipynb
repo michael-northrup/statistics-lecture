{
 "cells": [
  {
   "cell_type": "markdown",
   "metadata": {},
   "source": [
    "<h1><strong>Welcome to my Notebook on Statistics</strong></h1> \n",
    "<p>\n",
    "<big>This notebook covers the following:</big> \n",
    "<ul>\n",
    "    <li>Hypothesis Testing</li>\n",
    "    <li>Linear Regression</li>\n",
    "    <li>Logistic Regression and A/B Testing</li>\n",
    "</ul>\n",
    "</p>\n",
    "<big>We will also go over a few important libraries:</big>\n",
    "<ul>\n",
    "    <li>numpy</li>\n",
    "    <li>pandas</li>\n",
    "    <li>scipy</li>\n",
    "    <li>matplotlib</li>\n",
    "\n",
    "</ul>\n",
    "<p>\n",
    "By: Michael Northrup\n",
    "<br>\n",
    "Date: 12/17/2016\n",
    "</p>    "
   ]
  },
  {
   "cell_type": "markdown",
   "metadata": {
    "collapsed": true
   },
   "source": [
    "<h1>Quick Basics</h1>"
   ]
  },
  {
   "cell_type": "markdown",
   "metadata": {},
   "source": [
    "<h1>Hypothesis Testing</h1>"
   ]
  },
  {
   "cell_type": "markdown",
   "metadata": {},
   "source": [
    "<h1>Linear Regression</h1>"
   ]
  },
  {
   "cell_type": "markdown",
   "metadata": {},
   "source": [
    "<h1>Logistic Regression and A/B Testing</h1>"
   ]
  }
 ],
 "metadata": {
  "anaconda-cloud": {},
  "kernelspec": {
   "display_name": "Python [Root]",
   "language": "python",
   "name": "Python [Root]"
  },
  "language_info": {
   "codemirror_mode": {
    "name": "ipython",
    "version": 3
   },
   "file_extension": ".py",
   "mimetype": "text/x-python",
   "name": "python",
   "nbconvert_exporter": "python",
   "pygments_lexer": "ipython3",
   "version": "3.5.2"
  }
 },
 "nbformat": 4,
 "nbformat_minor": 0
}
