{
 "cells": [
  {
   "cell_type": "markdown",
   "metadata": {},
   "source": [
    "<strong>Welcome to my Notebook on Statistics</strong> \n",
    "<br>\n",
    "This notebook covers the following: \n",
    "<ul>\n",
    "    <li>Common statistical Test</li>\n",
    "    <li>Linear Regression</li>\n",
    "    <li>Variable Selection</li>\n",
    "</ul>\n",
    "<br>\n",
    "By: Michael Northrup<br>\n",
    "Date: 12/17/2016\n",
    "    "
   ]
  },
  {
   "cell_type": "code",
   "execution_count": null,
   "metadata": {
    "collapsed": true
   },
   "outputs": [],
   "source": []
  }
 ],
 "metadata": {
  "kernelspec": {
   "display_name": "Python [Root]",
   "language": "python",
   "name": "Python [Root]"
  },
  "language_info": {
   "codemirror_mode": {
    "name": "ipython",
    "version": 3
   },
   "file_extension": ".py",
   "mimetype": "text/x-python",
   "name": "python",
   "nbconvert_exporter": "python",
   "pygments_lexer": "ipython3",
   "version": "3.5.2"
  }
 },
 "nbformat": 4,
 "nbformat_minor": 0
}
